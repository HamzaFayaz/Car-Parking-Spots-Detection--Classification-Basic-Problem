{
 "cells": [
  {
   "cell_type": "code",
   "execution_count": 1,
   "metadata": {},
   "outputs": [],
   "source": [
    "import cv2\n",
    "from ultralytics import YOLO    #  from ultralytics import \n",
    "from matplotlib import pyplot as plt\n",
    "import pickle\n",
    "\n",
    "from skimage.transform import resize\n",
    "import numpy as np\n",
    "import cv2\n"
   ]
  },
  {
   "cell_type": "code",
   "execution_count": 2,
   "metadata": {},
   "outputs": [
    {
     "name": "stdout",
     "output_type": "stream",
     "text": [
      "(1080, 1920)\n"
     ]
    }
   ],
   "source": [
    "mask = \"../Data_Used_in_this_project/mask_1920_1080.png\"\n",
    "video = \"../Data_Used_in_this_project/parking_1920_1080.mp4\"\n",
    "\n",
    "mask = cv2.imread(mask ,0)\n",
    "cap = cv2.VideoCapture(video)\n",
    "\n",
    "print(mask.shape)"
   ]
  },
  {
   "cell_type": "code",
   "execution_count": 3,
   "metadata": {},
   "outputs": [],
   "source": [
    "def get_spot_location(Commponents):\n",
    "    [total_label , label_id , values ,centroid] = Commponents\n",
    "    coeff = 1\n",
    "    slots = []\n",
    "    for i in range(1,total_label):\n",
    "        x1 = int(values[i,cv2.CC_STAT_LEFT]*coeff)\n",
    "        y1 = int(values[i,cv2.CC_STAT_TOP]*coeff)\n",
    "        w = int(values[i,cv2.CC_STAT_WIDTH]*coeff)\n",
    "        h = int(values[i,cv2.CC_STAT_HEIGHT]*coeff)\n",
    "        slots.append([x1,y1,w,h])\n",
    "    return slots\n",
    "\n",
    "connected_components = cv2.connectedComponentsWithStats(mask,4,cv2.CV_32S)\n",
    "spots = get_spot_location(connected_components)"
   ]
  },
  {
   "cell_type": "code",
   "execution_count": 4,
   "metadata": {},
   "outputs": [
    {
     "name": "stderr",
     "output_type": "stream",
     "text": [
      "c:\\Users\\HamzaFayaz\\AppData\\Local\\Programs\\Python\\Python311\\Lib\\site-packages\\sklearn\\base.py:376: InconsistentVersionWarning: Trying to unpickle estimator SVC from version 1.1.3 when using version 1.5.1. This might lead to breaking code or invalid results. Use at your own risk. For more info please refer to:\n",
      "https://scikit-learn.org/stable/model_persistence.html#security-maintainability-limitations\n",
      "  warnings.warn(\n"
     ]
    }
   ],
   "source": [
    "\n",
    "MODEL = pickle.load(open(\"../Models/model.p\", \"rb\"))\n",
    "def empty_or_not(spot_bgr):\n",
    "\n",
    "    flat_data = []\n",
    "\n",
    "    img_resized = resize(spot_bgr, (15, 15, 3))\n",
    "    flat_data.append(img_resized.flatten())\n",
    "    flat_data = np.array(flat_data)\n",
    "\n",
    "    y_output = MODEL.predict(flat_data)\n",
    "\n",
    "    if y_output == 0:\n",
    "        return True\n",
    "    else:\n",
    "        return False\n"
   ]
  },
  {
   "cell_type": "code",
   "execution_count": 5,
   "metadata": {},
   "outputs": [],
   "source": [
    "def calc_diff(img1,img2):\n",
    "    return np.abs(np.mean(img1) - np.mean(img2))\n",
    "\n",
    "\n",
    "spots_status = [None for j in spots]\n",
    "diffs = [None for j in spots]\n",
    "\n",
    "previous_frame = None\n",
    "\n",
    "frame_nmr = 0\n",
    "ret = True\n",
    "step = 30"
   ]
  },
  {
   "cell_type": "code",
   "execution_count": 6,
   "metadata": {},
   "outputs": [],
   "source": [
    "while ret:\n",
    "    ret, frame = cap.read()\n",
    "\n",
    "    if frame_nmr % step == 0 and previous_frame is not None:\n",
    "        for spot_index, spot in enumerate(spots):\n",
    "            x1, y1, w, h = spot\n",
    "            spot_crop = frame[y1:y1+h, x1:x1+w, :]\n",
    "            diffs[spot_index] = calc_diff(spot_crop, previous_frame[y1:y1+h, x1:x1+w, :])\n",
    "            # print([diffs[j] for j in np.argsort(diffs)][::-1])\n",
    "            # plt.hist([diffs[j] for j in np.argsort(diffs)][::-1])\n",
    "\n",
    "    if frame_nmr % step == 0:\n",
    "        if previous_frame is None:\n",
    "            arr_ = range(len(spots))\n",
    "        else:\n",
    "            arr_ = [j for j in np.argsort(diffs) if diffs[j] / np.amax(diffs) > 0.4]\n",
    "\n",
    "        for spot_indx in arr_:\n",
    "            spot = spots[spot_indx]\n",
    "            x1, y1, w, h = spot\n",
    "            spot_crop = frame[y1:y1+h, x1:x1+w, :]\n",
    "            spot_status = empty_or_not(spot_crop)\n",
    "            spots_status[spot_indx] = spot_status\n",
    "\n",
    "    if frame_nmr % step == 0:\n",
    "        previous_frame = frame.copy()\n",
    "\n",
    "    for spot_indx, spot in enumerate(spots):\n",
    "        spot_status = spots_status[spot_indx]\n",
    "        x1, y1, w, h = spots[spot_indx]\n",
    "\n",
    "        if spot_status:\n",
    "            frame = cv2.rectangle(frame, (x1, y1), (x1 + w, y1 + h), (0, 255, 0), 2)\n",
    "        else:\n",
    "            frame = cv2.rectangle(frame, (x1, y1), (x1 + w, y1 + h), (0, 0, 255), 2)\n",
    "\n",
    "    cv2.putText(frame, f\"Available spots {str(sum(spots_status))} / {str(len(spots_status))}\", (100, 60), cv2.FONT_HERSHEY_SIMPLEX, 1, (0, 0, 0), 2)\n",
    "    cv2.imshow(\"Frame\", frame)\n",
    "    if cv2.waitKey(25) & 0xff == ord(\"q\"):\n",
    "        break\n",
    "cap.release()\n",
    "cv2.destroyAllWindows()"
   ]
  }
 ],
 "metadata": {
  "kernelspec": {
   "display_name": "Python 3",
   "language": "python",
   "name": "python3"
  },
  "language_info": {
   "codemirror_mode": {
    "name": "ipython",
    "version": 3
   },
   "file_extension": ".py",
   "mimetype": "text/x-python",
   "name": "python",
   "nbconvert_exporter": "python",
   "pygments_lexer": "ipython3",
   "version": "3.11.5"
  }
 },
 "nbformat": 4,
 "nbformat_minor": 2
}
